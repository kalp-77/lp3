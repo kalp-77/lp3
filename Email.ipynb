{
 "cells": [
  {
   "cell_type": "code",
   "execution_count": 14,
   "id": "42c95bcf-b0b7-4cad-8990-ba1e5ba3e469",
   "metadata": {},
   "outputs": [],
   "source": [
    "import pandas as pd\n",
    "import numpy as np\n",
    "import seaborn as sns"
   ]
  },
  {
   "cell_type": "code",
   "execution_count": 15,
   "id": "47622770-56a7-41c2-b7c9-8bd9961f5d7f",
   "metadata": {},
   "outputs": [],
   "source": [
    "df = pd.read_csv('emails.csv')"
   ]
  },
  {
   "cell_type": "markdown",
   "id": "c97c352e-b733-4478-b354-18986c8531e7",
   "metadata": {},
   "source": [
    "df.head()"
   ]
  },
  {
   "cell_type": "markdown",
   "id": "ba9efeaf-f2c5-476b-be44-52d3bbf4e713",
   "metadata": {},
   "source": [
    "df.isnull().sum()"
   ]
  },
  {
   "cell_type": "code",
   "execution_count": 18,
   "id": "3b23f432-ef8c-4b44-a2d0-5495198140c7",
   "metadata": {},
   "outputs": [],
   "source": [
    "x = df.drop(['Email No.', 'Prediction'], axis = 1)\n",
    "y = df['Prediction']"
   ]
  },
  {
   "cell_type": "markdown",
   "id": "0b9fa28e-8661-487e-89b4-1bd478958535",
   "metadata": {},
   "source": [
    "sns.countplot(x=y)"
   ]
  },
  {
   "cell_type": "markdown",
   "id": "ffd71f21-7ca2-48cb-8d69-8c7a881b2bd5",
   "metadata": {},
   "source": [
    " ### Preprocessing "
   ]
  },
  {
   "cell_type": "code",
   "execution_count": 20,
   "id": "85f2d37e-0803-46fc-9870-e6e4f896c7e4",
   "metadata": {},
   "outputs": [],
   "source": [
    "from sklearn.preprocessing import MinMaxScaler\n",
    "scaler = MinMaxScaler()\n",
    "x_scaled = scaler.fit_transform(x)"
   ]
  },
  {
   "cell_type": "code",
   "execution_count": 21,
   "id": "1723b72d-0056-427e-bf7f-14487e899dfc",
   "metadata": {},
   "outputs": [
    {
     "data": {
      "text/plain": [
       "array([[0.        , 0.        , 0.        , ..., 0.        , 0.        ,\n",
       "        0.        ],\n",
       "       [0.03809524, 0.09848485, 0.06705539, ..., 0.        , 0.00877193,\n",
       "        0.        ],\n",
       "       [0.        , 0.        , 0.        , ..., 0.        , 0.        ,\n",
       "        0.        ],\n",
       "       ...,\n",
       "       [0.        , 0.        , 0.        , ..., 0.        , 0.        ,\n",
       "        0.        ],\n",
       "       [0.00952381, 0.0530303 , 0.        , ..., 0.        , 0.00877193,\n",
       "        0.        ],\n",
       "       [0.1047619 , 0.18181818, 0.01166181, ..., 0.        , 0.        ,\n",
       "        0.        ]])"
      ]
     },
     "execution_count": 21,
     "metadata": {},
     "output_type": "execute_result"
    }
   ],
   "source": [
    "x_scaled"
   ]
  },
  {
   "cell_type": "code",
   "execution_count": null,
   "id": "d1a110f1-069e-4ab6-bb15-f212ca878ae0",
   "metadata": {},
   "outputs": [],
   "source": []
  },
  {
   "cell_type": "markdown",
   "id": "0183d69e-7bb9-4fb9-96ee-814107e14058",
   "metadata": {},
   "source": [
    "### Model building"
   ]
  },
  {
   "cell_type": "code",
   "execution_count": 37,
   "id": "9dbc2f54-6e69-490c-bdf4-32b05ec6b06b",
   "metadata": {},
   "outputs": [],
   "source": [
    "from sklearn.model_selection import train_test_split\n",
    "x_train, x_test, y_train, y_test = train_test_split(x_scaled, y, random_state = 0, test_size = 0.33)"
   ]
  },
  {
   "cell_type": "markdown",
   "id": "99f7f802-c945-4377-8811-e7bdb920c500",
   "metadata": {},
   "source": [
    "#### 1] Knn"
   ]
  },
  {
   "cell_type": "code",
   "execution_count": 38,
   "id": "6dd2e66c-291f-4722-84d7-2289304b43a2",
   "metadata": {},
   "outputs": [],
   "source": [
    "from sklearn.neighbors import KNeighborsClassifier\n",
    "from sklearn.metrics import classification_report, accuracy_score\n",
    "knn = KNeighborsClassifier(n_neighbors = 5)\n",
    "knn.fit(x_train, y_train)\n",
    "y_pred = knn.predict(x_test)"
   ]
  },
  {
   "cell_type": "code",
   "execution_count": 39,
   "id": "1ca54e41-d0a7-4820-920e-14992117ceca",
   "metadata": {},
   "outputs": [
    {
     "data": {
      "text/plain": [
       "0.8605741066198008"
      ]
     },
     "execution_count": 39,
     "metadata": {},
     "output_type": "execute_result"
    }
   ],
   "source": [
    "accuracy_score(y_test, y_pred)"
   ]
  },
  {
   "cell_type": "code",
   "execution_count": 40,
   "id": "83226666-982b-466a-8099-cb7eeffca586",
   "metadata": {},
   "outputs": [
    {
     "name": "stdout",
     "output_type": "stream",
     "text": [
      "              precision    recall  f1-score   support\n",
      "\n",
      "           0       0.98      0.82      0.89      1220\n",
      "           1       0.68      0.96      0.80       487\n",
      "\n",
      "    accuracy                           0.86      1707\n",
      "   macro avg       0.83      0.89      0.85      1707\n",
      "weighted avg       0.90      0.86      0.87      1707\n",
      "\n"
     ]
    }
   ],
   "source": [
    "print(classification_report(y_test, y_pred))"
   ]
  },
  {
   "cell_type": "markdown",
   "id": "8c1dfe57-3516-431f-87e3-1527175dbc7b",
   "metadata": {},
   "source": [
    "#### 2] SVM"
   ]
  },
  {
   "cell_type": "code",
   "execution_count": 41,
   "id": "2526332e-80f9-4842-a3c9-5dd52a6f4194",
   "metadata": {},
   "outputs": [],
   "source": [
    "from sklearn.svm import SVC\n",
    "svm = SVC(kernel = 'linear')\n",
    "svm.fit(x_train, y_train)\n",
    "y_pred = svm.predict(x_test)"
   ]
  },
  {
   "cell_type": "code",
   "execution_count": 42,
   "id": "2653eff6-a72a-449a-b5dd-8b055f649de4",
   "metadata": {},
   "outputs": [
    {
     "data": {
      "text/plain": [
       "0.9753954305799648"
      ]
     },
     "execution_count": 42,
     "metadata": {},
     "output_type": "execute_result"
    }
   ],
   "source": [
    "accuracy_score(y_test, y_pred)"
   ]
  },
  {
   "cell_type": "code",
   "execution_count": null,
   "id": "aec99b47-e8d6-4836-a265-e2ccc48065f6",
   "metadata": {},
   "outputs": [],
   "source": []
  }
 ],
 "metadata": {
  "kernelspec": {
   "display_name": "Python 3 (ipykernel)",
   "language": "python",
   "name": "python3"
  },
  "language_info": {
   "codemirror_mode": {
    "name": "ipython",
    "version": 3
   },
   "file_extension": ".py",
   "mimetype": "text/x-python",
   "name": "python",
   "nbconvert_exporter": "python",
   "pygments_lexer": "ipython3",
   "version": "3.10.12"
  }
 },
 "nbformat": 4,
 "nbformat_minor": 5
}
